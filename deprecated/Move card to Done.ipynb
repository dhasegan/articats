{
 "cells": [
  {
   "cell_type": "code",
   "execution_count": 3,
   "id": "242619ce",
   "metadata": {},
   "outputs": [],
   "source": [
    "import requests\n",
    "import os\n",
    "import json\n",
    "\n",
    "SCIENCE_BOARD = '60bfac13cbcf346200b1f259'\n",
    "TRELLO_BOARD_CARDS = \"https://api.trello.com/1/boards/{}/cards\"\n",
    "\n",
    "def _q():\n",
    "  return {\n",
    "   'key': os.environ['TRELLO_APIKEY'],\n",
    "   'token': os.environ['TRELLO_TOKEN'],\n",
    "  }\n",
    "\n",
    "\n",
    "def board_cards(idList):\n",
    "    response = requests.request(\n",
    "         \"GET\",\n",
    "         TRELLO_BOARD_CARDS.format(idList),\n",
    "         params=_q()\n",
    "    )\n",
    "    assert response.text, response\n",
    "    res_j = json.loads(response.text)\n",
    "    return [card for card in res_j if card['closed'] == False]\n"
   ]
  },
  {
   "cell_type": "code",
   "execution_count": 4,
   "id": "4a53b51d",
   "metadata": {},
   "outputs": [],
   "source": [
    "cards = board_cards(SCIENCE_BOARD)"
   ]
  },
  {
   "cell_type": "code",
   "execution_count": 9,
   "id": "2722aa34",
   "metadata": {},
   "outputs": [
    {
     "name": "stdout",
     "output_type": "stream",
     "text": [
      "86\n"
     ]
    }
   ],
   "source": [
    "cards_read = []\n",
    "\n",
    "for c in cards:\n",
    "    marked = False\n",
    "    for l in c['labels']:\n",
    "        if l['name'] in ['L2: Read', 'L1: Skimmed']:\n",
    "            marked = True\n",
    "    if marked:\n",
    "        cards_read.append(c['id'])\n",
    "        \n",
    "print(len(cards_read))"
   ]
  },
  {
   "cell_type": "code",
   "execution_count": 30,
   "id": "0b29b2dc",
   "metadata": {},
   "outputs": [],
   "source": [
    "DONE_LIST_ID = '635fd9dac4b7c303ea2c7e88'\n",
    "#         \"idList\": \"60bfb3a904f57b2d47419510\",\n",
    "\n",
    "\n",
    "def move_card(id_card, idList):\n",
    "    data = {\n",
    "#         'id': id_card,\n",
    "        'idList': idList\n",
    "    }\n",
    "    url = f\"https://api.trello.com/1/cards/{id_card}\"\n",
    "    headers = {\n",
    "       \"Accept\": \"application/json\"\n",
    "    }\n",
    "    response = requests.request(\n",
    "        \"PUT\",\n",
    "        url,\n",
    "        headers=headers,\n",
    "        params=_q(),\n",
    "        json=data\n",
    "    )\n",
    "    assert response.text, response\n",
    "    return response"
   ]
  },
  {
   "cell_type": "code",
   "execution_count": 14,
   "id": "e753d460",
   "metadata": {},
   "outputs": [
    {
     "data": {
      "text/plain": [
       "'60c2a03fe7a03256f077106e'"
      ]
     },
     "execution_count": 14,
     "metadata": {},
     "output_type": "execute_result"
    }
   ],
   "source": [
    "cards_read[3]"
   ]
  },
  {
   "cell_type": "code",
   "execution_count": 37,
   "id": "f8a644d9",
   "metadata": {},
   "outputs": [],
   "source": [
    "import time\n",
    "# from tqdm import tqdm\n",
    "\n",
    "for c in cards_read[4:]:\n",
    "    R = move_card(c, DONE_LIST_ID)\n",
    "    time.sleep(1)"
   ]
  },
  {
   "cell_type": "code",
   "execution_count": null,
   "id": "ed5e23e7",
   "metadata": {},
   "outputs": [],
   "source": []
  }
 ],
 "metadata": {
  "kernelspec": {
   "display_name": "Python 3 (ipykernel)",
   "language": "python",
   "name": "python3"
  },
  "language_info": {
   "codemirror_mode": {
    "name": "ipython",
    "version": 3
   },
   "file_extension": ".py",
   "mimetype": "text/x-python",
   "name": "python",
   "nbconvert_exporter": "python",
   "pygments_lexer": "ipython3",
   "version": "3.9.1"
  }
 },
 "nbformat": 4,
 "nbformat_minor": 5
}
